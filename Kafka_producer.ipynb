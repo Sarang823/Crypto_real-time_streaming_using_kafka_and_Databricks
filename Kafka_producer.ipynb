{
 "cells": [
  {
   "cell_type": "code",
   "execution_count": 1,
   "id": "6b9f0f5c",
   "metadata": {
    "scrolled": true
   },
   "outputs": [
    {
     "name": "stdout",
     "output_type": "stream",
     "text": [
      "Defaulting to user installation because normal site-packages is not writeable\n",
      "Requirement already satisfied: kafka-python in c:\\users\\sarang\\appdata\\roaming\\python\\python310\\site-packages (2.0.2)\n"
     ]
    },
    {
     "name": "stderr",
     "output_type": "stream",
     "text": [
      "\n",
      "[notice] A new release of pip is available: 23.0 -> 23.1.2\n",
      "[notice] To update, run: python.exe -m pip install --upgrade pip\n"
     ]
    }
   ],
   "source": [
    "!pip install kafka-python\n",
    "import pandas as pd"
   ]
  },
  {
   "cell_type": "code",
   "execution_count": 2,
   "id": "db1f2ead",
   "metadata": {},
   "outputs": [],
   "source": [
    "from kafka import KafkaProducer\n",
    "from time import sleep\n",
    "from json import dumps\n",
    "import json\n",
    "import pandas as pd"
   ]
  },
  {
   "cell_type": "code",
   "execution_count": 6,
   "id": "3ed04ff0",
   "metadata": {},
   "outputs": [],
   "source": [
    "bootstrap_server = 'your-EC@2-public-ip:9092'\n",
    "producer = KafkaProducer(bootstrap_servers = bootstrap_server)"
   ]
  },
  {
   "cell_type": "code",
   "execution_count": 3,
   "id": "97eea4b5",
   "metadata": {},
   "outputs": [],
   "source": [
    "df = pd.read_csv('crypto_coins.csv')"
   ]
  },
  {
   "cell_type": "code",
   "execution_count": 5,
   "id": "d89f64d6",
   "metadata": {},
   "outputs": [
    {
     "data": {
      "text/plain": [
       "Index(['coin_marketcap', 'coin_name', 'coin_price', 'coin_flag'], dtype='object')"
      ]
     },
     "execution_count": 5,
     "metadata": {},
     "output_type": "execute_result"
    }
   ],
   "source": [
    "df.columns"
   ]
  },
  {
   "cell_type": "code",
   "execution_count": 5,
   "id": "f5897793",
   "metadata": {},
   "outputs": [
    {
     "data": {
      "text/html": [
       "<div>\n",
       "<style scoped>\n",
       "    .dataframe tbody tr th:only-of-type {\n",
       "        vertical-align: middle;\n",
       "    }\n",
       "\n",
       "    .dataframe tbody tr th {\n",
       "        vertical-align: top;\n",
       "    }\n",
       "\n",
       "    .dataframe thead th {\n",
       "        text-align: right;\n",
       "    }\n",
       "</style>\n",
       "<table border=\"1\" class=\"dataframe\">\n",
       "  <thead>\n",
       "    <tr style=\"text-align: right;\">\n",
       "      <th></th>\n",
       "      <th>coin_marketcap</th>\n",
       "      <th>coin_name</th>\n",
       "      <th>coin_price</th>\n",
       "      <th>coin_flag</th>\n",
       "    </tr>\n",
       "  </thead>\n",
       "  <tbody>\n",
       "    <tr>\n",
       "      <th>0</th>\n",
       "      <td>230.61</td>\n",
       "      <td>Ethereum</td>\n",
       "      <td>1915.8900</td>\n",
       "      <td>Billion</td>\n",
       "    </tr>\n",
       "    <tr>\n",
       "      <th>1</th>\n",
       "      <td>82.09</td>\n",
       "      <td>Tether</td>\n",
       "      <td>1.0000</td>\n",
       "      <td>Billion</td>\n",
       "    </tr>\n",
       "    <tr>\n",
       "      <th>2</th>\n",
       "      <td>50.78</td>\n",
       "      <td>BNB</td>\n",
       "      <td>325.8200</td>\n",
       "      <td>Billion</td>\n",
       "    </tr>\n",
       "    <tr>\n",
       "      <th>3</th>\n",
       "      <td>30.13</td>\n",
       "      <td>USD Coin</td>\n",
       "      <td>1.0000</td>\n",
       "      <td>Billion</td>\n",
       "    </tr>\n",
       "    <tr>\n",
       "      <th>4</th>\n",
       "      <td>23.94</td>\n",
       "      <td>XRP</td>\n",
       "      <td>0.4618</td>\n",
       "      <td>Billion</td>\n",
       "    </tr>\n",
       "  </tbody>\n",
       "</table>\n",
       "</div>"
      ],
      "text/plain": [
       "   coin_marketcap coin_name  coin_price coin_flag\n",
       "0          230.61  Ethereum   1915.8900   Billion\n",
       "1           82.09    Tether      1.0000   Billion\n",
       "2           50.78       BNB    325.8200   Billion\n",
       "3           30.13  USD Coin      1.0000   Billion\n",
       "4           23.94       XRP      0.4618   Billion"
      ]
     },
     "execution_count": 5,
     "metadata": {},
     "output_type": "execute_result"
    }
   ],
   "source": [
    "df.head()"
   ]
  },
  {
   "cell_type": "code",
   "execution_count": null,
   "id": "4c683cf1",
   "metadata": {},
   "outputs": [],
   "source": [
    "while True:\n",
    "    ## You can split this below command and check how it works\n",
    "    dict_coins = df.sample(1).to_dict(orient=\"records\")[0]\n",
    "    \n",
    "    #json.dumps() function will convert a subset of Python objects into a json string\n",
    "    json_data = json.dumps(dict_coins)\n",
    "    \n",
    "    # kafka producer supports serialized encoded data \n",
    "    message_value = json_data.encode('utf-8')\n",
    "    producer.send('topic_name',value=message_value)\n",
    "    sleep(1)"
   ]
  },
  {
   "cell_type": "markdown",
   "id": "48a2aa25",
   "metadata": {},
   "source": [
    "- The KafkaProducer from the kafka package does not accept the value parameter directly as a string. Instead, it expects a bytes-like object as the value. To send JSON data without a custom serializer, you can pass the data as a serialized bytes object."
   ]
  },
  {
   "cell_type": "code",
   "execution_count": null,
   "id": "186b2d83",
   "metadata": {},
   "outputs": [],
   "source": []
  }
 ],
 "metadata": {
  "kernelspec": {
   "display_name": "Python 3 (ipykernel)",
   "language": "python",
   "name": "python3"
  },
  "language_info": {
   "codemirror_mode": {
    "name": "ipython",
    "version": 3
   },
   "file_extension": ".py",
   "mimetype": "text/x-python",
   "name": "python",
   "nbconvert_exporter": "python",
   "pygments_lexer": "ipython3",
   "version": "3.10.5"
  }
 },
 "nbformat": 4,
 "nbformat_minor": 5
}
