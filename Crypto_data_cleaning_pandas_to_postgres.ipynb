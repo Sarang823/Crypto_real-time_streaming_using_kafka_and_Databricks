{
 "cells": [
  {
   "cell_type": "code",
   "execution_count": 3,
   "id": "84808b54",
   "metadata": {},
   "outputs": [],
   "source": [
    "import pandas as pd\n",
    "import os"
   ]
  },
  {
   "cell_type": "code",
   "execution_count": 4,
   "id": "4766356b",
   "metadata": {},
   "outputs": [],
   "source": [
    "df = pd.read_csv('coins.csv')"
   ]
  },
  {
   "cell_type": "code",
   "execution_count": 5,
   "id": "d3255aed",
   "metadata": {},
   "outputs": [
    {
     "data": {
      "text/html": [
       "<div>\n",
       "<style scoped>\n",
       "    .dataframe tbody tr th:only-of-type {\n",
       "        vertical-align: middle;\n",
       "    }\n",
       "\n",
       "    .dataframe tbody tr th {\n",
       "        vertical-align: top;\n",
       "    }\n",
       "\n",
       "    .dataframe thead th {\n",
       "        text-align: right;\n",
       "    }\n",
       "</style>\n",
       "<table border=\"1\" class=\"dataframe\">\n",
       "  <thead>\n",
       "    <tr style=\"text-align: right;\">\n",
       "      <th></th>\n",
       "      <th>coin_marketcap</th>\n",
       "      <th>coin_name</th>\n",
       "      <th>coin_price</th>\n",
       "    </tr>\n",
       "  </thead>\n",
       "  <tbody>\n",
       "    <tr>\n",
       "      <th>0</th>\n",
       "      <td>NaN</td>\n",
       "      <td>NaN</td>\n",
       "      <td>NaN</td>\n",
       "    </tr>\n",
       "    <tr>\n",
       "      <th>1</th>\n",
       "      <td>$230.61 B</td>\n",
       "      <td>Ethereum</td>\n",
       "      <td>$1,915.89</td>\n",
       "    </tr>\n",
       "    <tr>\n",
       "      <th>2</th>\n",
       "      <td>$82.09 B</td>\n",
       "      <td>Tether</td>\n",
       "      <td>$1.00</td>\n",
       "    </tr>\n",
       "    <tr>\n",
       "      <th>3</th>\n",
       "      <td>$50.78 B</td>\n",
       "      <td>BNB</td>\n",
       "      <td>$325.82</td>\n",
       "    </tr>\n",
       "    <tr>\n",
       "      <th>4</th>\n",
       "      <td>$30.13 B</td>\n",
       "      <td>USD Coin</td>\n",
       "      <td>$1.00</td>\n",
       "    </tr>\n",
       "  </tbody>\n",
       "</table>\n",
       "</div>"
      ],
      "text/plain": [
       "  coin_marketcap coin_name coin_price\n",
       "0            NaN       NaN        NaN\n",
       "1      $230.61 B  Ethereum  $1,915.89\n",
       "2       $82.09 B    Tether      $1.00\n",
       "3       $50.78 B       BNB    $325.82\n",
       "4       $30.13 B  USD Coin      $1.00"
      ]
     },
     "execution_count": 5,
     "metadata": {},
     "output_type": "execute_result"
    }
   ],
   "source": [
    "df.head()"
   ]
  },
  {
   "cell_type": "code",
   "execution_count": 11,
   "id": "03231b48",
   "metadata": {},
   "outputs": [],
   "source": [
    "df.dropna(inplace=True)"
   ]
  },
  {
   "cell_type": "code",
   "execution_count": 16,
   "id": "f87dc297",
   "metadata": {},
   "outputs": [
    {
     "data": {
      "text/html": [
       "<div>\n",
       "<style scoped>\n",
       "    .dataframe tbody tr th:only-of-type {\n",
       "        vertical-align: middle;\n",
       "    }\n",
       "\n",
       "    .dataframe tbody tr th {\n",
       "        vertical-align: top;\n",
       "    }\n",
       "\n",
       "    .dataframe thead th {\n",
       "        text-align: right;\n",
       "    }\n",
       "</style>\n",
       "<table border=\"1\" class=\"dataframe\">\n",
       "  <thead>\n",
       "    <tr style=\"text-align: right;\">\n",
       "      <th></th>\n",
       "      <th>coin_marketcap</th>\n",
       "      <th>coin_name</th>\n",
       "      <th>coin_price</th>\n",
       "      <th>coin_flag</th>\n",
       "    </tr>\n",
       "  </thead>\n",
       "  <tbody>\n",
       "    <tr>\n",
       "      <th>1</th>\n",
       "      <td>$230.61 B</td>\n",
       "      <td>Ethereum</td>\n",
       "      <td>1915.89</td>\n",
       "      <td>Billion</td>\n",
       "    </tr>\n",
       "    <tr>\n",
       "      <th>2</th>\n",
       "      <td>$82.09 B</td>\n",
       "      <td>Tether</td>\n",
       "      <td>1.00</td>\n",
       "      <td>Billion</td>\n",
       "    </tr>\n",
       "    <tr>\n",
       "      <th>3</th>\n",
       "      <td>$50.78 B</td>\n",
       "      <td>BNB</td>\n",
       "      <td>325.82</td>\n",
       "      <td>Billion</td>\n",
       "    </tr>\n",
       "    <tr>\n",
       "      <th>4</th>\n",
       "      <td>$30.13 B</td>\n",
       "      <td>USD Coin</td>\n",
       "      <td>1.00</td>\n",
       "      <td>Billion</td>\n",
       "    </tr>\n",
       "    <tr>\n",
       "      <th>5</th>\n",
       "      <td>$23.94 B</td>\n",
       "      <td>XRP</td>\n",
       "      <td>0.4618</td>\n",
       "      <td>Billion</td>\n",
       "    </tr>\n",
       "  </tbody>\n",
       "</table>\n",
       "</div>"
      ],
      "text/plain": [
       "  coin_marketcap coin_name coin_price coin_flag\n",
       "1      $230.61 B  Ethereum    1915.89   Billion\n",
       "2       $82.09 B    Tether       1.00   Billion\n",
       "3       $50.78 B       BNB     325.82   Billion\n",
       "4       $30.13 B  USD Coin       1.00   Billion\n",
       "5       $23.94 B       XRP     0.4618   Billion"
      ]
     },
     "execution_count": 16,
     "metadata": {},
     "output_type": "execute_result"
    }
   ],
   "source": [
    "df.head()"
   ]
  },
  {
   "cell_type": "code",
   "execution_count": null,
   "id": "0a3057ab",
   "metadata": {},
   "outputs": [],
   "source": [
    "df[coin_flag]"
   ]
  },
  {
   "cell_type": "code",
   "execution_count": 13,
   "id": "d5a8c20b",
   "metadata": {},
   "outputs": [],
   "source": [
    "df['coin_price'] = df['coin_price'].replace('[\\$\\,\\,]',\"\", regex=True)"
   ]
  },
  {
   "cell_type": "code",
   "execution_count": 13,
   "id": "100436aa",
   "metadata": {},
   "outputs": [
    {
     "data": {
      "text/html": [
       "<div>\n",
       "<style scoped>\n",
       "    .dataframe tbody tr th:only-of-type {\n",
       "        vertical-align: middle;\n",
       "    }\n",
       "\n",
       "    .dataframe tbody tr th {\n",
       "        vertical-align: top;\n",
       "    }\n",
       "\n",
       "    .dataframe thead th {\n",
       "        text-align: right;\n",
       "    }\n",
       "</style>\n",
       "<table border=\"1\" class=\"dataframe\">\n",
       "  <thead>\n",
       "    <tr style=\"text-align: right;\">\n",
       "      <th></th>\n",
       "      <th>coin_marketcap</th>\n",
       "      <th>coin_name</th>\n",
       "      <th>coin_price</th>\n",
       "      <th>coin_flag</th>\n",
       "    </tr>\n",
       "  </thead>\n",
       "  <tbody>\n",
       "    <tr>\n",
       "      <th>2448</th>\n",
       "      <td>6.1</td>\n",
       "      <td>AurusGOLD</td>\n",
       "      <td>61.95</td>\n",
       "      <td>Million</td>\n",
       "    </tr>\n",
       "    <tr>\n",
       "      <th>2449</th>\n",
       "      <td>6.05</td>\n",
       "      <td>HollaEx Token</td>\n",
       "      <td>0.1974</td>\n",
       "      <td>Million</td>\n",
       "    </tr>\n",
       "  </tbody>\n",
       "</table>\n",
       "</div>"
      ],
      "text/plain": [
       "     coin_marketcap      coin_name coin_price coin_flag\n",
       "2448            6.1      AurusGOLD      61.95   Million\n",
       "2449           6.05  HollaEx Token     0.1974   Million"
      ]
     },
     "execution_count": 13,
     "metadata": {},
     "output_type": "execute_result"
    }
   ],
   "source": [
    "df.tail(2)"
   ]
  },
  {
   "cell_type": "markdown",
   "id": "25f0b388",
   "metadata": {},
   "source": [
    "### Create a function that would create a flag of Billion or Million for each of the Coin marketcap."
   ]
  },
  {
   "cell_type": "code",
   "execution_count": 15,
   "id": "126124c7",
   "metadata": {},
   "outputs": [],
   "source": [
    "df['coin_flag']=df['coin_marketcap'].apply(lambda x: 'Billion' if 'B' in x else ('Million' if 'M' in x else 'x'))"
   ]
  },
  {
   "cell_type": "markdown",
   "id": "6fea60fe",
   "metadata": {},
   "source": [
    "### Now remove all the content from coin_marketcap string which is not necessary"
   ]
  },
  {
   "cell_type": "code",
   "execution_count": 11,
   "id": "229ade90",
   "metadata": {},
   "outputs": [],
   "source": [
    "df['coin_marketcap']=df['coin_marketcap'].replace('[\\$\\,M,B,\\\" \"\\,]',\"\",regex=True)"
   ]
  },
  {
   "cell_type": "code",
   "execution_count": 10,
   "id": "0328c800",
   "metadata": {},
   "outputs": [
    {
     "data": {
      "text/html": [
       "<div>\n",
       "<style scoped>\n",
       "    .dataframe tbody tr th:only-of-type {\n",
       "        vertical-align: middle;\n",
       "    }\n",
       "\n",
       "    .dataframe tbody tr th {\n",
       "        vertical-align: top;\n",
       "    }\n",
       "\n",
       "    .dataframe thead th {\n",
       "        text-align: right;\n",
       "    }\n",
       "</style>\n",
       "<table border=\"1\" class=\"dataframe\">\n",
       "  <thead>\n",
       "    <tr style=\"text-align: right;\">\n",
       "      <th></th>\n",
       "      <th>coin_marketcap</th>\n",
       "      <th>coin_name</th>\n",
       "      <th>coin_price</th>\n",
       "      <th>coin_flag</th>\n",
       "    </tr>\n",
       "  </thead>\n",
       "  <tbody>\n",
       "    <tr>\n",
       "      <th>1</th>\n",
       "      <td>230.61</td>\n",
       "      <td>Ethereum</td>\n",
       "      <td>1915.89</td>\n",
       "      <td>Billion</td>\n",
       "    </tr>\n",
       "    <tr>\n",
       "      <th>2</th>\n",
       "      <td>82.09</td>\n",
       "      <td>Tether</td>\n",
       "      <td>1.00</td>\n",
       "      <td>Billion</td>\n",
       "    </tr>\n",
       "    <tr>\n",
       "      <th>3</th>\n",
       "      <td>50.78</td>\n",
       "      <td>BNB</td>\n",
       "      <td>325.82</td>\n",
       "      <td>Billion</td>\n",
       "    </tr>\n",
       "    <tr>\n",
       "      <th>4</th>\n",
       "      <td>30.13</td>\n",
       "      <td>USD Coin</td>\n",
       "      <td>1.00</td>\n",
       "      <td>Billion</td>\n",
       "    </tr>\n",
       "    <tr>\n",
       "      <th>5</th>\n",
       "      <td>23.94</td>\n",
       "      <td>XRP</td>\n",
       "      <td>0.4618</td>\n",
       "      <td>Billion</td>\n",
       "    </tr>\n",
       "  </tbody>\n",
       "</table>\n",
       "</div>"
      ],
      "text/plain": [
       "  coin_marketcap coin_name coin_price coin_flag\n",
       "1         230.61  Ethereum    1915.89   Billion\n",
       "2          82.09    Tether       1.00   Billion\n",
       "3          50.78       BNB     325.82   Billion\n",
       "4          30.13  USD Coin       1.00   Billion\n",
       "5          23.94       XRP     0.4618   Billion"
      ]
     },
     "execution_count": 10,
     "metadata": {},
     "output_type": "execute_result"
    }
   ],
   "source": [
    "df.head()"
   ]
  },
  {
   "cell_type": "code",
   "execution_count": 16,
   "id": "161f451c",
   "metadata": {},
   "outputs": [],
   "source": [
    "### Send the DataFrame df records to postgresql"
   ]
  },
  {
   "cell_type": "code",
   "execution_count": 11,
   "id": "836c2351",
   "metadata": {},
   "outputs": [],
   "source": [
    "import psycopg2 as psy\n",
    "from psycopg2 import extras"
   ]
  },
  {
   "cell_type": "code",
   "execution_count": null,
   "id": "cc618d08",
   "metadata": {},
   "outputs": [],
   "source": [
    "conn = psy.connect('host=localhost dbname=your_db user=postgres password=abc@123')\n",
    "cur= conn.cursor()\n",
    "conn.set_session(autocommit = True)"
   ]
  },
  {
   "cell_type": "code",
   "execution_count": null,
   "id": "2f4d3583",
   "metadata": {},
   "outputs": [],
   "source": [
    "cur.execute('Create Database Crypto_project;')\n",
    "conn.close()"
   ]
  },
  {
   "cell_type": "code",
   "execution_count": 12,
   "id": "3e3c01fe",
   "metadata": {},
   "outputs": [],
   "source": [
    "conn = psy.connect('host=localhost dbname=crypto_project user=postgres password=abc@123')\n",
    "cur = conn.cursor()\n",
    "conn.set_session(autocommit=True)"
   ]
  },
  {
   "cell_type": "code",
   "execution_count": 13,
   "id": "940c5b94",
   "metadata": {},
   "outputs": [],
   "source": [
    "cur.execute('Create Table Coins(coin_marketcap Float, coin_name varchar(200), coin_price float, coin_flag varchar)')"
   ]
  },
  {
   "cell_type": "code",
   "execution_count": 14,
   "id": "b1c37540",
   "metadata": {},
   "outputs": [],
   "source": [
    "records = list(df.itertuples(index=False, name=None))\n",
    "query = f\"Insert Into coins(coin_marketcap,coin_name,coin_price,coin_flag) Values %s\"\n",
    "extras.execute_values(cur, query, records)\n",
    "cur.close()\n",
    "conn.close()"
   ]
  },
  {
   "cell_type": "code",
   "execution_count": null,
   "id": "7b7338ee",
   "metadata": {},
   "outputs": [],
   "source": []
  }
 ],
 "metadata": {
  "kernelspec": {
   "display_name": "Python 3 (ipykernel)",
   "language": "python",
   "name": "python3"
  },
  "language_info": {
   "codemirror_mode": {
    "name": "ipython",
    "version": 3
   },
   "file_extension": ".py",
   "mimetype": "text/x-python",
   "name": "python",
   "nbconvert_exporter": "python",
   "pygments_lexer": "ipython3",
   "version": "3.10.5"
  }
 },
 "nbformat": 4,
 "nbformat_minor": 5
}
